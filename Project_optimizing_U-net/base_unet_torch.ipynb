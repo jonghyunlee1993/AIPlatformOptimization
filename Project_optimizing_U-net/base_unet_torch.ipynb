{
 "cells": [
  {
   "cell_type": "code",
   "execution_count": 1,
   "id": "provincial-commission",
   "metadata": {},
   "outputs": [],
   "source": [
    "import glob\n",
    "import cv2\n",
    "import numpy as np\n",
    "import pandas as pd\n",
    "import matplotlib.pyplot as plt\n",
    "from sklearn.model_selection import train_test_split\n",
    "from tqdm.notebook import tqdm\n",
    "\n",
    "import torch\n",
    "import torch.nn as nn\n",
    "import torch.nn.functional as F\n",
    "from torch.utils.data import Dataset, DataLoader\n",
    "from torch.optim.lr_scheduler import ReduceLROnPlateau\n",
    "\n",
    "import albumentations as A\n",
    "from albumentations.pytorch import ToTensor\n",
    "\n",
    "EPOCHS = 150\n",
    "BATCH_SIZE = 64\n",
    "LEARNING_RATE = 0.0005\n",
    "PAITIENCE = 10\n",
    "\n",
    "IM_HEIGHT = 256\n",
    "IM_WIDTH = 256\n",
    "device = torch.device('cuda:0' if torch.cuda.is_available() else 'cpu')\n",
    "\n",
    "train_files = []\n",
    "mask_files = glob.glob('data/lgg-mri-segmentation/kaggle_3m/*/*_mask*')\n",
    "\n",
    "for i in mask_files:\n",
    "    train_files.append(i.replace('_mask',''))"
   ]
  },
  {
   "cell_type": "code",
   "execution_count": 2,
   "id": "copyrighted-approval",
   "metadata": {},
   "outputs": [],
   "source": [
    "train_transforms = A.Compose([\n",
    "    A.augmentations.Resize(width=IM_HEIGHT, height=IM_WIDTH, p=1.0),\n",
    "    A.augmentations.HorizontalFlip(p=0.5),\n",
    "    A.augmentations.VerticalFlip(p=0.5),\n",
    "    A.augmentations.ShiftScaleRotate(shift_limit=0.05, scale_limit=0.1, rotate_limit=45),\n",
    "    A.augmentations.Normalize(p=1.0),\n",
    "    ToTensor(),\n",
    "])\n",
    "\n",
    "valid_transforms = A.Compose([\n",
    "    A.augmentations.Resize(width=IM_HEIGHT, height=IM_WIDTH, p=1.0),\n",
    "    A.augmentations.Normalize(p=1.0),\n",
    "    ToTensor(),\n",
    "])"
   ]
  },
  {
   "cell_type": "code",
   "execution_count": 7,
   "id": "minimal-packet",
   "metadata": {},
   "outputs": [
    {
     "name": "stdout",
     "output_type": "stream",
     "text": [
      "Train: (2828, 2) \n",
      "Val: (708, 2) \n",
      "Test: (393, 2)\n"
     ]
    }
   ],
   "source": [
    "class BrainMriDataset(Dataset):\n",
    "    def __init__(self, df, transforms=None):\n",
    "        \n",
    "        self.df = df\n",
    "        self.transforms = transforms\n",
    "        \n",
    "    def __len__(self):\n",
    "        return len(self.df)\n",
    "    \n",
    "    def __getitem__(self, idx):\n",
    "        image = cv2.imread(self.df.iloc[idx, 0])\n",
    "        mask = cv2.imread(self.df.iloc[idx, 1], 0)\n",
    "        \n",
    "        augmented = self.transforms(image=image, mask=mask)\n",
    "        image = augmented['image']\n",
    "        mask = augmented['mask']   \n",
    "        \n",
    "        return image, mask\n",
    "\n",
    "    \n",
    "df = pd.DataFrame(data={\"filename\": train_files, 'mask' : mask_files})\n",
    "df_train, df_test = train_test_split(df, test_size=0.1, random_state=1234)\n",
    "df_train, df_valid = train_test_split(df_train, test_size=0.2, random_state=1234)\n",
    "\n",
    "print(f\"Train: {df_train.shape} \\nVal: {df_valid.shape} \\nTest: {df_test.shape}\")\n",
    "\n",
    "train_dataset = BrainMriDataset(df=df_train, transforms=train_transforms)\n",
    "train_iterator = DataLoader(train_dataset, batch_size=BATCH_SIZE, num_workers=4, shuffle=True)\n",
    "\n",
    "valid_dataset = BrainMriDataset(df=df_valid, transforms=valid_transforms)\n",
    "valid_iterator = DataLoader(valid_dataset, batch_size=BATCH_SIZE, num_workers=4, shuffle=True)\n",
    "\n",
    "test_dataset = BrainMriDataset(df=df_test, transforms=valid_transforms)\n",
    "test_iterator = DataLoader(test_dataset, batch_size=1, num_workers=3, shuffle=False)"
   ]
  },
  {
   "cell_type": "code",
   "execution_count": 4,
   "id": "genuine-matter",
   "metadata": {},
   "outputs": [],
   "source": [
    "class DoubleConv(nn.Module):\n",
    "    def __init__(self, in_channels, out_channels, mid_channels=None):\n",
    "        super().__init__()\n",
    "        \n",
    "        mid_channels = out_channels\n",
    "        self.double_conv = nn.Sequential(\n",
    "            nn.Conv2d(in_channels, mid_channels, kernel_size=3, padding=1),\n",
    "            nn.BatchNorm2d(mid_channels),\n",
    "            nn.ReLU(inplace=True),\n",
    "            nn.Conv2d(mid_channels, out_channels, kernel_size=3, padding=1),\n",
    "            nn.BatchNorm2d(out_channels),\n",
    "            nn.ReLU(inplace=True)\n",
    "        )\n",
    "\n",
    "    def forward(self, x):\n",
    "        return self.double_conv(x)\n",
    "\n",
    "\n",
    "class Down(nn.Module):\n",
    "    def __init__(self, in_channels, out_channels):\n",
    "        super().__init__()\n",
    "        self.maxpool_conv = nn.Sequential(\n",
    "            nn.MaxPool2d(2),\n",
    "            DoubleConv(in_channels, out_channels)\n",
    "        )\n",
    "\n",
    "    def forward(self, x):\n",
    "        return self.maxpool_conv(x)\n",
    "\n",
    "\n",
    "class Up(nn.Module):\n",
    "    def __init__(self, in_channels, out_channels, bilinear=True):\n",
    "        super().__init__()\n",
    "\n",
    "        # if bilinear, use the normal convolutions to reduce the number of channels\n",
    "        if bilinear:\n",
    "            self.up = nn.Upsample(scale_factor=2, mode='bilinear', align_corners=True)\n",
    "            self.conv = DoubleConv(in_channels, out_channels, in_channels // 2)\n",
    "        else:\n",
    "            self.up = nn.ConvTranspose2d(in_channels , in_channels // 2, kernel_size=2, stride=2)\n",
    "            self.conv = DoubleConv(in_channels, out_channels)\n",
    "\n",
    "    def forward(self, x1, x2):\n",
    "        x1 = self.up(x1)\n",
    "        # input is CHW\n",
    "        diffY = x2.size()[2] - x1.size()[2]\n",
    "        diffX = x2.size()[3] - x1.size()[3]\n",
    "\n",
    "        x1 = F.pad(x1, [diffX // 2, diffX - diffX // 2,\n",
    "                        diffY // 2, diffY - diffY // 2])\n",
    "        # if you have padding issues, see\n",
    "        # https://github.com/HaiyongJiang/U-Net-Pytorch-Unstructured-Buggy/commit/0e854509c2cea854e247a9c615f175f76fbb2e3a\n",
    "        # https://github.com/xiaopeng-liao/Pytorch-UNet/commit/8ebac70e633bac59fc22bb5195e513d5832fb3bd\n",
    "        x = torch.cat([x2, x1], dim=1)\n",
    "        return self.conv(x)\n",
    "\n",
    "\n",
    "class OutConv(nn.Module):\n",
    "    def __init__(self, in_channels, out_channels):\n",
    "        super(OutConv, self).__init__()\n",
    "        self.conv = nn.Conv2d(in_channels, out_channels, kernel_size=1)\n",
    "\n",
    "    def forward(self, x):\n",
    "        return self.conv(x)\n",
    "    \n",
    "    \n",
    "class UNet(nn.Module):\n",
    "    def __init__(self, n_channels=3, n_classes=1, bilinear=True):\n",
    "        super(UNet, self).__init__()\n",
    "        \n",
    "        self.n_channels = n_channels\n",
    "        self.n_classes  = n_classes\n",
    "        self.bilinear   = bilinear\n",
    "\n",
    "        self.inc   = DoubleConv(n_channels, 64)\n",
    "        self.down1 = Down(64, 128)\n",
    "        self.down2 = Down(128, 256)\n",
    "        self.down3 = Down(256, 512)\n",
    "        \n",
    "        factor     = 2 if bilinear else 1\n",
    "        \n",
    "        self.down4 = Down(512, 1024 // factor)\n",
    "        self.up1   = Up(1024, 512 // factor, bilinear)\n",
    "        self.up2   = Up(512, 256 // factor, bilinear)\n",
    "        self.up3   = Up(256, 128 // factor, bilinear)\n",
    "        self.up4   = Up(128, 64, bilinear)\n",
    "        self.outc  = OutConv(64, n_classes)\n",
    "\n",
    "    def forward(self, x):\n",
    "        x1     = self.inc(x)\n",
    "        x2     = self.down1(x1)\n",
    "        x3     = self.down2(x2)\n",
    "        x4     = self.down3(x3)\n",
    "        x5     = self.down4(x4)\n",
    "        x      = self.up1(x5, x4)\n",
    "        x      = self.up2(x, x3)\n",
    "        x      = self.up3(x, x2)\n",
    "        x      = self.up4(x, x1)\n",
    "        logits = self.outc(x)\n",
    "        \n",
    "        return logits"
   ]
  },
  {
   "cell_type": "code",
   "execution_count": 5,
   "id": "thick-watershed",
   "metadata": {},
   "outputs": [],
   "source": [
    "class DiceBCELoss(nn.Module):\n",
    "    def __init__(self, weight=None, size_average=True):\n",
    "        super(DiceBCELoss, self).__init__()\n",
    "\n",
    "    def forward(self, inputs, targets, smooth=1):\n",
    "        inputs = F.sigmoid(inputs)       \n",
    "        inputs = inputs.view(-1)\n",
    "        targets = targets.view(-1)\n",
    "        \n",
    "        intersection = (inputs * targets).sum()                            \n",
    "        dice_loss = 1 - (2. * intersection + smooth) / (inputs.sum() + targets.sum() + smooth)  \n",
    "        BCE = F.binary_cross_entropy(inputs, targets, reduction='mean')\n",
    "        Dice_BCE = BCE + dice_loss\n",
    "        \n",
    "        return Dice_BCE\n",
    "\n",
    "    \n",
    "class DiceLoss(nn.Module):\n",
    "    def __init__(self, weight=None, size_average=True):\n",
    "        super(DiceLoss, self).__init__()\n",
    "\n",
    "    def forward(self, inputs, targets, smooth=1):\n",
    "        inputs = F.sigmoid(inputs)       \n",
    "        inputs = inputs.view(-1)\n",
    "        targets = targets.view(-1)\n",
    "        \n",
    "        intersection = (inputs * targets).sum()                            \n",
    "        dice_loss = 1 - (2. * intersection + smooth) / (inputs.sum() + targets.sum() + smooth)  \n",
    "        \n",
    "        return dice_loss\n",
    "    \n",
    "    \n",
    "def dice_coef(inputs, targets, smooth=1):\n",
    "    inputs = F.sigmoid(inputs)\n",
    "    inputs = inputs.view(-1)\n",
    "    targets = targets.view(-1)\n",
    "\n",
    "    intersection = (inputs * targets).sum()                            \n",
    "    dice_coef = (2. * intersection + smooth) / (inputs.sum() + targets.sum() + smooth)\n",
    "    \n",
    "    return dice_coef"
   ]
  },
  {
   "cell_type": "code",
   "execution_count": 6,
   "id": "elect-irrigation",
   "metadata": {},
   "outputs": [],
   "source": [
    "def train(model, iterator, criterion, optimizer, device=device):  \n",
    "    model.train()\n",
    "    epoch_loss = 0\n",
    "    epoch_acc  = 0\n",
    "        \n",
    "    for data, target in tqdm(iterator):\n",
    "        optimizer.zero_grad()\n",
    "        \n",
    "        data = data.to(device)\n",
    "        target = target.to(device)\n",
    "\n",
    "        output = model(data)           \n",
    "\n",
    "#         pred   = F.sigmoid(output)\n",
    "#         pred   = (pred > 0.5).float()\n",
    "\n",
    "        loss = criterion(output, target)\n",
    "        loss.backward()    \n",
    "        epoch_loss += loss.item()\n",
    "        \n",
    "        acc = dice_coef(output, target)\n",
    "        epoch_acc += acc\n",
    "        \n",
    "        optimizer.step()\n",
    "\n",
    "    return epoch_loss / len(iterator), epoch_acc / len(iterator)\n",
    "\n",
    "\n",
    "def evaluate(model, iterator, criterion, device):\n",
    "    model.eval()\n",
    "    epoch_loss = 0\n",
    "    epoch_acc  = 0\n",
    "    \n",
    "    with torch.no_grad():\n",
    "        for data, target in iterator:\n",
    "            data   = data.to(device)\n",
    "            target = target.to(device)\n",
    "            \n",
    "            output = model(data)\n",
    "            \n",
    "#             pred   = F.sigmoid(output)\n",
    "#             pred   = (pred > 0.5).float()\n",
    "            \n",
    "            loss = criterion(output, target)\n",
    "            epoch_loss += loss.item()\n",
    "            \n",
    "            acc = dice_coef(output, target)\n",
    "            epoch_acc += acc\n",
    "            \n",
    "    return epoch_loss / len(iterator), epoch_acc / len(iterator)\n",
    "\n",
    "\n",
    "def print_log(epoch_num, train_loss, valid_loss, train_acc, valid_acc):\n",
    "    print(f\"EPOCH: {epoch_num + 1}\")\n",
    "    print(f\"Train loss: {round(train_loss, 4)}\\tValid loss: {round(valid_loss, 4)}\")\n",
    "    print(f\"Train acc : {round(float(train_acc), 4)}\\tValid acc : {round(float(valid_acc), 4)}\")"
   ]
  },
  {
   "cell_type": "code",
   "execution_count": 9,
   "id": "current-resident",
   "metadata": {
    "scrolled": true
   },
   "outputs": [
    {
     "data": {
      "application/vnd.jupyter.widget-view+json": {
       "model_id": "3dbb643fc536440b9ee2ac72fc26fb47",
       "version_major": 2,
       "version_minor": 0
      },
      "text/plain": [
       "  0%|          | 0/45 [00:00<?, ?it/s]"
      ]
     },
     "metadata": {},
     "output_type": "display_data"
    },
    {
     "name": "stdout",
     "output_type": "stream",
     "text": [
      "EPOCH: 1\n",
      "Train loss: 0.1836\tValid loss: 0.242\n",
      "Train acc : 0.8164\tValid acc : 0.758\n"
     ]
    },
    {
     "data": {
      "application/vnd.jupyter.widget-view+json": {
       "model_id": "382b9d5ba1684feb8ef9e595cb886798",
       "version_major": 2,
       "version_minor": 0
      },
      "text/plain": [
       "  0%|          | 0/45 [00:00<?, ?it/s]"
      ]
     },
     "metadata": {},
     "output_type": "display_data"
    },
    {
     "name": "stdout",
     "output_type": "stream",
     "text": [
      "EPOCH: 2\n",
      "Train loss: 0.1813\tValid loss: 0.1659\n",
      "Train acc : 0.8187\tValid acc : 0.8341\n"
     ]
    },
    {
     "data": {
      "application/vnd.jupyter.widget-view+json": {
       "model_id": "76bd8e60fa2744eaa21313149070f95b",
       "version_major": 2,
       "version_minor": 0
      },
      "text/plain": [
       "  0%|          | 0/45 [00:00<?, ?it/s]"
      ]
     },
     "metadata": {},
     "output_type": "display_data"
    },
    {
     "name": "stdout",
     "output_type": "stream",
     "text": [
      "EPOCH: 3\n",
      "Train loss: 0.1759\tValid loss: 0.1639\n",
      "Train acc : 0.8241\tValid acc : 0.8361\n"
     ]
    },
    {
     "data": {
      "application/vnd.jupyter.widget-view+json": {
       "model_id": "22820034ce50459690e328317b284d62",
       "version_major": 2,
       "version_minor": 0
      },
      "text/plain": [
       "  0%|          | 0/45 [00:00<?, ?it/s]"
      ]
     },
     "metadata": {},
     "output_type": "display_data"
    },
    {
     "name": "stdout",
     "output_type": "stream",
     "text": [
      "EPOCH: 4\n",
      "Train loss: 0.1701\tValid loss: 0.1716\n",
      "Train acc : 0.8299\tValid acc : 0.8284\n"
     ]
    },
    {
     "data": {
      "application/vnd.jupyter.widget-view+json": {
       "model_id": "6165883e035f4f5eb9e359c082c3d9ef",
       "version_major": 2,
       "version_minor": 0
      },
      "text/plain": [
       "  0%|          | 0/45 [00:00<?, ?it/s]"
      ]
     },
     "metadata": {},
     "output_type": "display_data"
    },
    {
     "ename": "KeyboardInterrupt",
     "evalue": "",
     "output_type": "error",
     "traceback": [
      "\u001b[0;31m---------------------------------------------------------------------------\u001b[0m",
      "\u001b[0;31mKeyboardInterrupt\u001b[0m                         Traceback (most recent call last)",
      "\u001b[0;32m<ipython-input-9-154921f4e2d2>\u001b[0m in \u001b[0;36m<module>\u001b[0;34m\u001b[0m\n\u001b[1;32m     12\u001b[0m \u001b[0;34m\u001b[0m\u001b[0m\n\u001b[1;32m     13\u001b[0m \u001b[0;32mfor\u001b[0m \u001b[0mepoch_num\u001b[0m \u001b[0;32min\u001b[0m \u001b[0mrange\u001b[0m\u001b[0;34m(\u001b[0m\u001b[0mEPOCHS\u001b[0m\u001b[0;34m)\u001b[0m\u001b[0;34m:\u001b[0m\u001b[0;34m\u001b[0m\u001b[0;34m\u001b[0m\u001b[0m\n\u001b[0;32m---> 14\u001b[0;31m     \u001b[0mtrain_loss\u001b[0m\u001b[0;34m,\u001b[0m \u001b[0mtrain_acc\u001b[0m \u001b[0;34m=\u001b[0m \u001b[0mtrain\u001b[0m\u001b[0;34m(\u001b[0m\u001b[0mmodel\u001b[0m\u001b[0;34m,\u001b[0m \u001b[0mtrain_iterator\u001b[0m\u001b[0;34m,\u001b[0m \u001b[0mcriterion\u001b[0m\u001b[0;34m,\u001b[0m \u001b[0moptimizer\u001b[0m\u001b[0;34m,\u001b[0m \u001b[0mdevice\u001b[0m\u001b[0;34m)\u001b[0m\u001b[0;34m\u001b[0m\u001b[0;34m\u001b[0m\u001b[0m\n\u001b[0m\u001b[1;32m     15\u001b[0m     \u001b[0mvalid_loss\u001b[0m\u001b[0;34m,\u001b[0m \u001b[0mvalid_acc\u001b[0m \u001b[0;34m=\u001b[0m \u001b[0mevaluate\u001b[0m\u001b[0;34m(\u001b[0m\u001b[0mmodel\u001b[0m\u001b[0;34m,\u001b[0m \u001b[0mvalid_iterator\u001b[0m\u001b[0;34m,\u001b[0m \u001b[0mcriterion\u001b[0m\u001b[0;34m,\u001b[0m \u001b[0mdevice\u001b[0m\u001b[0;34m)\u001b[0m\u001b[0;34m\u001b[0m\u001b[0;34m\u001b[0m\u001b[0m\n\u001b[1;32m     16\u001b[0m \u001b[0;34m\u001b[0m\u001b[0m\n",
      "\u001b[0;32m<ipython-input-6-a2cd55609710>\u001b[0m in \u001b[0;36mtrain\u001b[0;34m(model, iterator, criterion, optimizer, device)\u001b[0m\n\u001b[1;32m     17\u001b[0m         \u001b[0mloss\u001b[0m \u001b[0;34m=\u001b[0m \u001b[0mcriterion\u001b[0m\u001b[0;34m(\u001b[0m\u001b[0moutput\u001b[0m\u001b[0;34m,\u001b[0m \u001b[0mtarget\u001b[0m\u001b[0;34m)\u001b[0m\u001b[0;34m\u001b[0m\u001b[0;34m\u001b[0m\u001b[0m\n\u001b[1;32m     18\u001b[0m         \u001b[0mloss\u001b[0m\u001b[0;34m.\u001b[0m\u001b[0mbackward\u001b[0m\u001b[0;34m(\u001b[0m\u001b[0;34m)\u001b[0m\u001b[0;34m\u001b[0m\u001b[0;34m\u001b[0m\u001b[0m\n\u001b[0;32m---> 19\u001b[0;31m         \u001b[0mepoch_loss\u001b[0m \u001b[0;34m+=\u001b[0m \u001b[0mloss\u001b[0m\u001b[0;34m.\u001b[0m\u001b[0mitem\u001b[0m\u001b[0;34m(\u001b[0m\u001b[0;34m)\u001b[0m\u001b[0;34m\u001b[0m\u001b[0;34m\u001b[0m\u001b[0m\n\u001b[0m\u001b[1;32m     20\u001b[0m \u001b[0;34m\u001b[0m\u001b[0m\n\u001b[1;32m     21\u001b[0m         \u001b[0macc\u001b[0m \u001b[0;34m=\u001b[0m \u001b[0mdice_coef\u001b[0m\u001b[0;34m(\u001b[0m\u001b[0moutput\u001b[0m\u001b[0;34m,\u001b[0m \u001b[0mtarget\u001b[0m\u001b[0;34m)\u001b[0m\u001b[0;34m\u001b[0m\u001b[0;34m\u001b[0m\u001b[0m\n",
      "\u001b[0;31mKeyboardInterrupt\u001b[0m: "
     ]
    }
   ],
   "source": [
    "# model = UNet().to(device)\n",
    "model = torch.load('weights/unet_best_pytorch').to(device)\n",
    "optimizer = torch.optim.Adam(model.parameters(), lr=LEARNING_RATE)\n",
    "scheduler = ReduceLROnPlateau(optimizer, 'min')\n",
    "# criterion = DiceBCELoss()\n",
    "criterion = DiceLoss()\n",
    "\n",
    "n_paitience = 0\n",
    "best_valid_loss = float('inf')\n",
    "optimizer.zero_grad()\n",
    "optimizer.step()\n",
    "\n",
    "for epoch_num in range(EPOCHS):\n",
    "    train_loss, train_acc = train(model, train_iterator, criterion, optimizer, device)\n",
    "    valid_loss, valid_acc = evaluate(model, valid_iterator, criterion, device)\n",
    "    \n",
    "    scheduler.step(valid_loss)\n",
    "    \n",
    "    print_log(epoch_num, train_loss, valid_loss, train_acc, valid_acc)\n",
    "    \n",
    "    if n_paitience < PAITIENCE:\n",
    "        if best_valid_loss > valid_loss:\n",
    "            best_valid_loss = valid_loss\n",
    "            torch.save(model, 'weights/unet_best_pytorch')\n",
    "            n_paitience = 0\n",
    "        elif best_valid_loss <= valid_loss:\n",
    "            n_paitience += 1\n",
    "    else:\n",
    "        print(\"Early stop!\")\n",
    "        model = torch.load('weights/unet_best_pytorch')\n",
    "        break"
   ]
  },
  {
   "cell_type": "code",
   "execution_count": 18,
   "id": "annoying-swing",
   "metadata": {},
   "outputs": [
    {
     "data": {
      "application/vnd.jupyter.widget-view+json": {
       "model_id": "04d35ede5a044ababa7299bdb4c00e7b",
       "version_major": 2,
       "version_minor": 0
      },
      "text/plain": [
       "  0%|          | 0/5 [00:00<?, ?it/s]"
      ]
     },
     "metadata": {},
     "output_type": "display_data"
    },
    {
     "data": {
      "text/plain": [
       "[0.18365927992279596,\n",
       " 0.19540355041736865,\n",
       " 0.19238634752559905,\n",
       " 0.18637470495306505,\n",
       " 0.19111231629175085]"
      ]
     },
     "execution_count": 18,
     "metadata": {},
     "output_type": "execute_result"
    }
   ],
   "source": [
    "import time\n",
    "from tqdm.notebook import tqdm\n",
    "\n",
    "device = 'cpu'\n",
    "model = torch.load('weights/unet_best_torch').to(device)\n",
    "optimizer = torch.optim.Adam(model.parameters(), lr=LEARNING_RATE)\n",
    "criterion = DiceLoss()\n",
    "\n",
    "time_list = []\n",
    "for i in tqdm(range(5)):\n",
    "    st = time.time()\n",
    "    loss, acc = evaluate(model, test_iterator, criterion, device)\n",
    "    ed = time.time()\n",
    "    \n",
    "    time_diff = (ed - st) / len(test_iterator)\n",
    "\n",
    "    time_list.append(time_diff)\n",
    "    \n",
    "time_list"
   ]
  },
  {
   "cell_type": "code",
   "execution_count": 20,
   "id": "unsigned-frank",
   "metadata": {},
   "outputs": [
    {
     "data": {
      "text/plain": [
       "0.5693617194663478"
      ]
     },
     "execution_count": 20,
     "metadata": {},
     "output_type": "execute_result"
    }
   ],
   "source": [
    "np.mean(time_list) * 3"
   ]
  },
  {
   "cell_type": "code",
   "execution_count": null,
   "id": "higher-information",
   "metadata": {},
   "outputs": [],
   "source": []
  }
 ],
 "metadata": {
  "kernelspec": {
   "display_name": "Python 3",
   "language": "python",
   "name": "python3"
  },
  "language_info": {
   "codemirror_mode": {
    "name": "ipython",
    "version": 3
   },
   "file_extension": ".py",
   "mimetype": "text/x-python",
   "name": "python",
   "nbconvert_exporter": "python",
   "pygments_lexer": "ipython3",
   "version": "3.7.10"
  }
 },
 "nbformat": 4,
 "nbformat_minor": 5
}
